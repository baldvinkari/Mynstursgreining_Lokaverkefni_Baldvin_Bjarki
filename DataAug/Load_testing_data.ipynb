{
 "cells": [
  {
   "cell_type": "code",
   "execution_count": null,
   "metadata": {},
   "outputs": [],
   "source": [
    "import csv\n",
    "import numpy as np\n",
    "import matplotlib.pyplot as plt\n",
    "import os \n",
    "import cv2\n",
    "\n",
    "#Fall sem tekur testing gögn og kemur þeim á rétt form fyrir tauganet og setur inn í pickle file\n",
    "#Fallið tekur myndir og breytir þeim í 32x32 gráskalamyndir,vistar síðan í fylkjum\n",
    "#Hluti gagnasettsins er merktur með csv file en sá hluti sem við bættum við er merktur í möppum\n",
    "#Höfundur: Baldvin Kári Magnússon - 15.04.2020\n",
    "\n"
   ]
  },
  {
   "cell_type": "code",
   "execution_count": null,
   "metadata": {},
   "outputs": [],
   "source": [
    "testing_data = []\n",
    "IMG_SIZE = 32 #Stærð mynda \n",
    "\n",
    "#Lesum inn testing gögn í fylki sem merkt eru með csv file.\n",
    "#Test.csv er nafnið á skránni\n",
    "#Dálkur 7 er nafnið á skránni og dálkur 6 er númer flokks\n",
    "def create_testing_data():\n",
    "    path = \"/Users/Baldvin/Documents/6.misseri/Mynstursgreining/Lokaverkefni/gtsrb-german-traffic-sign/Test\"\n",
    "    t = \"Test/\"\n",
    "    #i = 0\n",
    "    for img in os.listdir(path):  #ítrum yfir allar myndir \n",
    "        a=t+img #leið til þess að ná nafni á hverri mynd\n",
    "        with open(\"Test.csv\", \"r\") as f:\n",
    "            reader = csv.reader(f)\n",
    "            for line_num, content in enumerate(reader):\n",
    "                if content[7] == a:\n",
    "                    class_num =content[6]\n",
    "        try:\n",
    "            img_array = cv2.imread(os.path.join(path,img) ,cv2.IMREAD_GRAYSCALE)  #breytum í fylki\n",
    "            new_array = cv2.resize(img_array, (IMG_SIZE, IMG_SIZE))  #breytum um stærð\n",
    "            testing_data.append([new_array, class_num])  #bætum mynd og flokk í training_data fylkið\n",
    "        except Exception as e: \n",
    "            pass\n",
    "        \n",
    "#Sama aðferð og fyrir training gögn notuð á þá flokka sem við bættum við\n",
    "def create_testing_data1():\n",
    "    DATADIR = \"/Users/Baldvin/Desktop/test_nygogn\"\n",
    "    CATEGORIES = [\"43\",\"44\",\"45\",\"46\"]\n",
    "    for category in CATEGORIES:  #ítrum yfir flokkana\n",
    "\n",
    "        path1 = os.path.join(DATADIR,category)  #Path fyrir hvern flokk\n",
    "        class_num = CATEGORIES.index(category) + 43  # get the classification  (0 or a 1). 0=dog 1=cat\n",
    "\n",
    "        for img in os.listdir(path1):  # Ítrum yfir hverja mynd í hverri möpp\n",
    "            try:\n",
    "                img_array = cv2.imread(os.path.join(path1,img) ,cv2.IMREAD_GRAYSCALE)  #breytum í fylki\n",
    "                new_array = cv2.resize(img_array, (IMG_SIZE, IMG_SIZE))  #breytum um stærð\n",
    "                testing_data.append([new_array, class_num])  #bætum mynd og flokk í testing_data fylkið\n",
    "            except Exception as e:  \n",
    "                pass\n",
    "\n"
   ]
  },
  {
   "cell_type": "code",
   "execution_count": null,
   "metadata": {},
   "outputs": [],
   "source": [
    "#búum til fylkið og sjá hversu mörg sýnin eru\n",
    "create_testing_data()\n",
    "create_testing_data1()\n",
    "print(len(testing_data))"
   ]
  },
  {
   "cell_type": "code",
   "execution_count": null,
   "metadata": {},
   "outputs": [],
   "source": [
    "#Stokkum upp í fylkinu og prentum 10 gildi til staðfestingar\n",
    "import random\n",
    "random.shuffle(testing_data)\n",
    "for sample in testing_data[0:10]:\n",
    "    print(sample[1])\n",
    "\n"
   ]
  },
  {
   "cell_type": "code",
   "execution_count": null,
   "metadata": {},
   "outputs": [],
   "source": [
    "#Búum til lista X og y og breytum síðan X í numpy fylki\n",
    "X_test = []\n",
    "y_test = []\n",
    "for features,label in testing_data:\n",
    "    X_test.append(features)\n",
    "    y_test.append(label)\n",
    "\n",
    "X_test = np.array(X_test).reshape(-1,IMG_SIZE, IMG_SIZE,1)"
   ]
  },
  {
   "cell_type": "code",
   "execution_count": null,
   "metadata": {},
   "outputs": [],
   "source": [
    "#sýnum 10 myndir til að sjá útkomu\n",
    "for i in range(10):\n",
    "    mynd = X_test[i, :, :,0]\n",
    "    plt.imshow(mynd,cmap=\"gray\")\n",
    "    plt.show() \n",
    "    print(y_test[i])\n",
    "\n"
   ]
  },
  {
   "cell_type": "code",
   "execution_count": null,
   "metadata": {},
   "outputs": [],
   "source": [
    "#Prentum út til staðfestingar\n",
    "print(X_test.shape)\n",
    "print(len(X_test))\n",
    "print(len(y_test))"
   ]
  },
  {
   "cell_type": "code",
   "execution_count": null,
   "metadata": {},
   "outputs": [],
   "source": [
    "import pickle\n",
    "#Setjum gögn á pickle format\n",
    "pickle_out = open(\"X_test.pickle\",\"wb\")\n",
    "pickle.dump(X_test, pickle_out)\n",
    "pickle_out.close()\n",
    "\n",
    "pickle_out = open(\"y_test.pickle\",\"wb\")\n",
    "pickle.dump(y_test, pickle_out)\n",
    "pickle_out.close()"
   ]
  }
 ],
 "metadata": {
  "kernelspec": {
   "display_name": "Python [conda env:Mynstursgreining2020] *",
   "language": "python",
   "name": "conda-env-Mynstursgreining2020-py"
  },
  "language_info": {
   "codemirror_mode": {
    "name": "ipython",
    "version": 3
   },
   "file_extension": ".py",
   "mimetype": "text/x-python",
   "name": "python",
   "nbconvert_exporter": "python",
   "pygments_lexer": "ipython3",
   "version": "3.7.6"
  }
 },
 "nbformat": 4,
 "nbformat_minor": 2
}
